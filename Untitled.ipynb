{
 "cells": [
  {
   "cell_type": "code",
   "execution_count": 4,
   "metadata": {},
   "outputs": [
    {
     "name": "stdout",
     "output_type": "stream",
     "text": [
      "enter all the no. you want to multiply separated by comma 65,2,56\n",
      "7280\n"
     ]
    }
   ],
   "source": [
    "# Task 1.1.1\n",
    "# Write a Python Program to implement your own myreduce() function which works exactly\n",
    "# like Python's built-in function reduce()\n",
    "\n",
    "def myreduce(a):\n",
    "    bisn = a.split(\",\")\n",
    "    product = 1\n",
    "    for num in bisn:\n",
    "        product = product * int(num)\n",
    "    print (product)\n",
    "mystr = input (\"enter all the no. you want to multiply separated by comma \")\n",
    "myreduce(mystr)\n"
   ]
  },
  {
   "cell_type": "code",
   "execution_count": 5,
   "metadata": {},
   "outputs": [
    {
     "name": "stdout",
     "output_type": "stream",
     "text": [
      "[-8, -7, -6, -5, -4, -3, -2, -1]\n"
     ]
    }
   ],
   "source": [
    "# Task 1.1.2\n",
    "# Write a Python program to implement your own myfilter() function which works exactly like\n",
    "# Python's built-in function filter()\n",
    "\n",
    "def myfilter(number_list):\n",
    "    less_than_zero =[]\n",
    "    for n in number_list:\n",
    "        if n < 0:\n",
    "            less_than_zero.append(n)   \n",
    "    print(less_than_zero)\n",
    "a =range(-8, 5)\n",
    "myfilter(a)\n"
   ]
  },
  {
   "cell_type": "markdown",
   "metadata": {},
   "source": [
    "### Task 1.2\n",
    "### Implement List comprehensions to produce the following lists.\n",
    "### Write List comprehensions to produce the following Lists"
   ]
  },
  {
   "cell_type": "code",
   "execution_count": 13,
   "metadata": {},
   "outputs": [
    {
     "name": "stdout",
     "output_type": "stream",
     "text": [
      "['A', 'C', 'A', 'D', 'G', 'I', 'L', 'D']\n"
     ]
    }
   ],
   "source": [
    "my_string = 'ACADGILD'\n",
    "my_list = [i for i in my_string]\n",
    "print(my_list)"
   ]
  },
  {
   "cell_type": "code",
   "execution_count": 8,
   "metadata": {},
   "outputs": [
    {
     "data": {
      "text/plain": [
       "['x', 'xx', 'xxx', 'xxxx', 'y', 'yy', 'yyy', 'yyyy', 'z', 'zz', 'zzz', 'zzzz']"
      ]
     },
     "execution_count": 8,
     "metadata": {},
     "output_type": "execute_result"
    }
   ],
   "source": [
    "[i*j for i in ('x','y','z') for j in range (1,5)]"
   ]
  },
  {
   "cell_type": "code",
   "execution_count": 15,
   "metadata": {},
   "outputs": [
    {
     "data": {
      "text/plain": [
       "['x', 'y', 'z', 'xx', 'yy', 'zz', 'xx', 'yy', 'zz', 'xxxx', 'yyyy', 'zzzz']"
      ]
     },
     "execution_count": 15,
     "metadata": {},
     "output_type": "execute_result"
    }
   ],
   "source": [
    "[i*j*K for i in range(1,3) for j in range(1,3)for K in ('x','y','z')]"
   ]
  },
  {
   "cell_type": "code",
   "execution_count": 10,
   "metadata": {},
   "outputs": [
    {
     "data": {
      "text/plain": [
       "[[2], [3], [4], [3], [4], [5], [4], [5], [6]]"
      ]
     },
     "execution_count": 10,
     "metadata": {},
     "output_type": "execute_result"
    }
   ],
   "source": [
    "[ [val + x] for x in [2,3,4]for val in range(0,3)]"
   ]
  },
  {
   "cell_type": "code",
   "execution_count": 11,
   "metadata": {},
   "outputs": [
    {
     "data": {
      "text/plain": [
       "[[2, 3, 4, 5], [3, 4, 5, 6], [4, 5, 6, 7], [5, 6, 7, 8]]"
      ]
     },
     "execution_count": 11,
     "metadata": {},
     "output_type": "execute_result"
    }
   ],
   "source": [
    "[[x,x+1,x+2,x+3] for x in [2,3,4,5]]"
   ]
  },
  {
   "cell_type": "code",
   "execution_count": 12,
   "metadata": {},
   "outputs": [
    {
     "data": {
      "text/plain": [
       "[(1, 1), (1, 2), (1, 3), (2, 1), (2, 2), (2, 3), (3, 1), (3, 2), (3, 3)]"
      ]
     },
     "execution_count": 12,
     "metadata": {},
     "output_type": "execute_result"
    }
   ],
   "source": [
    "[ (x,y) for x in [1,2,3] for y in [ 1,2,3] ]"
   ]
  },
  {
   "cell_type": "markdown",
   "metadata": {},
   "source": [
    "### Task 1.3\n",
    "Implement a function longestWord() that takes a list of words and returns the longest one."
   ]
  },
  {
   "cell_type": "code",
   "execution_count": 19,
   "metadata": {},
   "outputs": [
    {
     "name": "stdout",
     "output_type": "stream",
     "text": [
      "enter all the words separated by comma dish,orange,apple,blueberry\n",
      "blueberry\n"
     ]
    }
   ],
   "source": [
    "def longestWord(a):\n",
    "    lon = a.split(\",\")\n",
    "    longwordlen= 0\n",
    "    longestword= \"\"\n",
    "    for i in lon:\n",
    "        if len(i)>longwordlen:\n",
    "            longestword = i\n",
    "            longwordlen = len(i)\n",
    "    print(longestword)\n",
    "    \n",
    "mylist = input (\"enter all the words separated by comma \")\n",
    "longestWord(mylist)"
   ]
  },
  {
   "cell_type": "markdown",
   "metadata": {},
   "source": [
    "### Task 2.1.1\n",
    "Write a Python Program(with class concepts) to find the area of the triangle"
   ]
  },
  {
   "cell_type": "code",
   "execution_count": 25,
   "metadata": {},
   "outputs": [
    {
     "name": "stdout",
     "output_type": "stream",
     "text": [
      "Enter a : 4\n",
      "Enter b : 6\n",
      "Enter c : 8\n",
      "Area of triangle: 11.61895003862225\n"
     ]
    }
   ],
   "source": [
    "class triangle():\n",
    "    def __init__(self,a,b,c):\n",
    "        self.a=a\n",
    "        self.b=b\n",
    "        self.c=c\n",
    "    def area(self):\n",
    "        s = (a + b + c) / 2\n",
    "        return((s*(s-self.a)*(s-self.b)*(s-self.c))**0.5)        \n",
    "a=int(input(\"Enter a : \"))\n",
    "b=int(input(\"Enter b : \"))\n",
    "c=int(input(\"Enter c : \"))\n",
    "obj=triangle(a,b,c)\n",
    "print(\"Area of triangle:\",obj.area()) \n",
    "\n"
   ]
  },
  {
   "cell_type": "markdown",
   "metadata": {},
   "source": [
    "### Task 2.1.2\n",
    "Write a function filter_long_words() that takes a list of words and an integer n and returns the list\n",
    "of words that are longer than n."
   ]
  },
  {
   "cell_type": "code",
   "execution_count": 2,
   "metadata": {},
   "outputs": [
    {
     "name": "stdout",
     "output_type": "stream",
     "text": [
      "enter all the words separated by comma lovet,tim,tommy,patrick,nelson\n",
      "enter the no. from which longer list of words you need 3\n",
      "['lovet', 'tommy', 'patrick', 'nelson']\n"
     ]
    }
   ],
   "source": [
    "def filter_long_words(a,b):\n",
    "    \n",
    "    lon = a.split(\",\")\n",
    "    longwordlen= int(b)\n",
    "    longestword= []\n",
    "    \n",
    "    for i in lon:\n",
    "        if len(i)>longwordlen:\n",
    "            longestword.append(i)\n",
    "    print(longestword)\n",
    "    \n",
    "mylist = input (\"enter all the words separated by comma \")\n",
    "num = input (\"enter the no. from which longer list of words you need \")\n",
    "filter_long_words(mylist,num)"
   ]
  },
  {
   "cell_type": "markdown",
   "metadata": {},
   "source": [
    "### Task 2.1.3\n",
    "\n",
    "Write a Python program using function concept that maps list of words into a list of integers\n",
    "representing the lengths of the corresponding words ."
   ]
  },
  {
   "cell_type": "code",
   "execution_count": 3,
   "metadata": {},
   "outputs": [
    {
     "name": "stdout",
     "output_type": "stream",
     "text": [
      "enter all the words separated by comma lovet,tim,tommy,patrick,nelson\n",
      "[5, 3, 5, 7, 6]\n"
     ]
    }
   ],
   "source": [
    "def filter_long_words(a):\n",
    "    lon = a.split(\",\")\n",
    "    wordlen= []\n",
    "    \n",
    "    for i in lon:\n",
    "        wordlen.append(len(i))\n",
    "    print(wordlen)\n",
    "    \n",
    "mylist = input (\"enter all the words separated by comma \")\n",
    "filter_long_words(mylist)"
   ]
  },
  {
   "cell_type": "markdown",
   "metadata": {},
   "source": [
    "### Task 2.1.4\n",
    "\n",
    "Write a Python function which takes a character (i.e. a string of length 1) and returns True if it is\n",
    "a vowel, False otherwise."
   ]
  },
  {
   "cell_type": "code",
   "execution_count": 9,
   "metadata": {},
   "outputs": [
    {
     "name": "stdout",
     "output_type": "stream",
     "text": [
      "enter the alphabet you want to check U\n",
      "True\n"
     ]
    }
   ],
   "source": [
    "def is_vowel(char):\n",
    "    check_vowel = 'aeiou'\n",
    "    return char.lower() in check_vowel\n",
    "\n",
    "a = input (\"enter the alphabet you want to check \")\n",
    "print(is_vowel(a))"
   ]
  },
  {
   "cell_type": "code",
   "execution_count": null,
   "metadata": {},
   "outputs": [],
   "source": []
  }
 ],
 "metadata": {
  "kernelspec": {
   "display_name": "Python 3",
   "language": "python",
   "name": "python3"
  },
  "language_info": {
   "codemirror_mode": {
    "name": "ipython",
    "version": 3
   },
   "file_extension": ".py",
   "mimetype": "text/x-python",
   "name": "python",
   "nbconvert_exporter": "python",
   "pygments_lexer": "ipython3",
   "version": "3.6.8"
  }
 },
 "nbformat": 4,
 "nbformat_minor": 2
}
